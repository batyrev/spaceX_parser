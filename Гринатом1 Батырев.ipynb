{
 "cells": [
  {
   "attachments": {},
   "cell_type": "markdown",
   "metadata": {},
   "source": [
    "1. Код ошибки 5хх говорит о том, что браузер отправил запрос корректно, но сервер не смог его обработать. Это означает, что проблема на стороне сервера. 500 - внутренняя ошибка сервера.\n",
    "\n",
    "Можно посоветовать пользователю перезагрузить страницу.\n",
    "Также можно предложить пользователю очистить кэш и cookies браузера.\n",
    "\n",
    "При этом нужно разобраться, что именно приводит к ошибке. Для этого можно посмотреть логи."
   ]
  },
  {
   "attachments": {},
   "cell_type": "markdown",
   "metadata": {},
   "source": [
    "2. Изначальный код:"
   ]
  },
  {
   "cell_type": "code",
   "execution_count": 3,
   "metadata": {},
   "outputs": [],
   "source": [
    "def create_handlers(callback):\n",
    "    handlers = []\n",
    "    for step in range(5):\n",
    "        # добавляем обработчики для кажого (шаги от 0 до 4)\n",
    "        handlers.append(lambda: callback(step))\n",
    "    return handlers\n",
    "\n",
    "def execute_handlers(handlers):\n",
    "    # запускаем добавленные обработчики (шаги от 0 до 4)\n",
    "    for handler in handlers:\n",
    "        handler()"
   ]
  },
  {
   "attachments": {},
   "cell_type": "markdown",
   "metadata": {},
   "source": [
    "Ошибка в передаче аргумента в функцию callback (в использовании lambda-функции).\n",
    "\n",
    "Исправление с типами:"
   ]
  },
  {
   "cell_type": "code",
   "execution_count": 4,
   "metadata": {},
   "outputs": [],
   "source": [
    "from typing import Callable, List\n",
    "\n",
    "def create_handlers(callback: Callable[[int], None]) -> List[Callable[[], None]]:\n",
    "    handlers = []\n",
    "    for step in range(5):\n",
    "        # добавляем обработчики для кажого (шаги от 0 до 4)\n",
    "        handlers.append(lambda step=step: callback(step))\n",
    "    return handlers\n",
    "\n",
    "def execute_handlers(handlers: List[Callable[[], None]]):\n",
    "    # запускаем добавленные обработчики (шаги от 0 до 4)\n",
    "    for handler in handlers:\n",
    "        handler()"
   ]
  },
  {
   "attachments": {},
   "cell_type": "markdown",
   "metadata": {},
   "source": [
    "3. Используем requests для выполнения GET запроса к сайту и библиотеку BeautifulSoup для парсинга HTML-кода."
   ]
  },
  {
   "cell_type": "code",
   "execution_count": 25,
   "metadata": {},
   "outputs": [
    {
     "name": "stdout",
     "output_type": "stream",
     "text": [
      "На сайте https://greenatom.ru/ найдено 774 HTML-тегов, из которых 478 содержат(ит) атрибуты.\n"
     ]
    }
   ],
   "source": [
    "import requests\n",
    "from bs4 import BeautifulSoup\n",
    "\n",
    "# пришлось добавить заголовок с User-Agent, иначе сайт не отдавал html - ошибка 403 (доступ запрещен)\n",
    "headers = {'User-Agent': ''}\n",
    "url = \"https://greenatom.ru/\"\n",
    "\n",
    "html = requests.get(url, headers=headers).text\n",
    "soup = BeautifulSoup(html, \"html.parser\")\n",
    "tags = soup.find_all(True)\n",
    "\n",
    "tags_with_attrs = 0\n",
    "for tag in tags:\n",
    "    if tag.attrs:\n",
    "        tags_with_attrs += 1\n",
    "\n",
    "print(f'На сайте {url} найдено {len(tags)} HTML-тегов, из которых {tags_with_attrs} содержат(ит) атрибуты.')"
   ]
  },
  {
   "attachments": {},
   "cell_type": "markdown",
   "metadata": {},
   "source": [
    "4."
   ]
  },
  {
   "cell_type": "code",
   "execution_count": 29,
   "metadata": {},
   "outputs": [
    {
     "data": {
      "text/plain": [
       "'94.79.33.18'"
      ]
     },
     "execution_count": 29,
     "metadata": {},
     "output_type": "execute_result"
    }
   ],
   "source": [
    "# функция которая возвращает публичный ip адрес компьютера\n",
    "def get_ip():\n",
    "    import requests\n",
    "    return requests.get('https://ifconfig.me/').text\n",
    "\n",
    "get_ip()"
   ]
  },
  {
   "attachments": {},
   "cell_type": "markdown",
   "metadata": {},
   "source": [
    "5."
   ]
  },
  {
   "cell_type": "code",
   "execution_count": 1,
   "metadata": {},
   "outputs": [
    {
     "data": {
      "text/plain": [
       "0"
      ]
     },
     "execution_count": 1,
     "metadata": {},
     "output_type": "execute_result"
    }
   ],
   "source": [
    "# программа которая выполняет сравнение версий\n",
    "# если версия A старше версии B то вернуть -1\n",
    "# если версия A новее версии B то вернуть 1\n",
    "# если версии A и B одинаковые то вернуть 0\n",
    "# 1.10 > 1.1\n",
    "\n",
    "def compare_versions(version_a, version_b):\n",
    "    version_a = version_a.split('.')\n",
    "    version_b = version_b.split('.')\n",
    "    if len(version_a) > len(version_b):\n",
    "        version_b += ['0'] * (len(version_a) - len(version_b))\n",
    "    elif len(version_a) < len(version_b):\n",
    "        version_a += ['0'] * (len(version_b) - len(version_a))\n",
    "    for i in range(len(version_a)):\n",
    "        if int(version_a[i]) > int(version_b[i]):\n",
    "            return 1\n",
    "        elif int(version_a[i]) < int(version_b[i]):\n",
    "            return -1\n",
    "    return 0\n",
    "\n",
    "compare_versions('1.1.0', '1.1.0')"
   ]
  }
 ],
 "metadata": {
  "kernelspec": {
   "display_name": "Python 3",
   "language": "python",
   "name": "python3"
  },
  "language_info": {
   "codemirror_mode": {
    "name": "ipython",
    "version": 3
   },
   "file_extension": ".py",
   "mimetype": "text/x-python",
   "name": "python",
   "nbconvert_exporter": "python",
   "pygments_lexer": "ipython3",
   "version": "3.9.2"
  },
  "orig_nbformat": 4,
  "vscode": {
   "interpreter": {
    "hash": "0fbdaaee667939eacbaa7c9b4c7dfa9ddcb3c767a8721ec3b28135d52ddf35f9"
   }
  }
 },
 "nbformat": 4,
 "nbformat_minor": 2
}
